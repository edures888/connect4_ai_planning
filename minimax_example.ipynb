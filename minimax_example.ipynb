{
 "cells": [
  {
   "cell_type": "markdown",
   "metadata": {},
   "source": [
    "# Minimax Policy"
   ]
  },
  {
   "cell_type": "code",
   "execution_count": 12,
   "metadata": {},
   "outputs": [],
   "source": [
    "from src.config_parser import get_args\n",
    "from src.eval import watch\n",
    "from src.train import train_agent"
   ]
  },
  {
   "cell_type": "code",
   "execution_count": null,
   "metadata": {},
   "outputs": [
    {
     "name": "stdout",
     "output_type": "stream",
     "text": [
      "Opponent policy: minimax\n",
      "Minimax depth: 2\n",
      "Agent ID: 2\n"
     ]
    }
   ],
   "source": [
    "args = get_args()\n",
    "args.opponent_policy = \"minimax\"\n",
    "args.minimax_depth = 2\n",
    "args.watch = True\n",
    "args.agent_id = 1  # The learning agent plays as player 1, minimax as player 2\n",
    "\n",
    "print(f\"Opponent policy: {args.opponent_policy}\")\n",
    "print(f\"Minimax depth: {args.minimax_depth}\")\n",
    "print(f\"Agent ID: {args.agent_id}\")"
   ]
  },
  {
   "cell_type": "markdown",
   "metadata": {},
   "source": [
    "## Watch a game with MinimaxPolicy"
   ]
  },
  {
   "cell_type": "code",
   "execution_count": 14,
   "metadata": {},
   "outputs": [
    {
     "name": "stdout",
     "output_type": "stream",
     "text": [
      "Final reward: -1.0, length: 7.0\n"
     ]
    }
   ],
   "source": [
    "# Watch a game\n",
    "watch(args)"
   ]
  }
 ],
 "metadata": {
  "kernelspec": {
   "display_name": "cs4246",
   "language": "python",
   "name": "python3"
  },
  "language_info": {
   "codemirror_mode": {
    "name": "ipython",
    "version": 3
   },
   "file_extension": ".py",
   "mimetype": "text/x-python",
   "name": "python",
   "nbconvert_exporter": "python",
   "pygments_lexer": "ipython3",
   "version": "3.10.16"
  }
 },
 "nbformat": 4,
 "nbformat_minor": 4
}
