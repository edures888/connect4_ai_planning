{
 "cells": [
  {
   "cell_type": "markdown",
   "metadata": {},
   "source": [
    "# Minimax Policy"
   ]
  },
  {
   "cell_type": "code",
   "execution_count": 1,
   "metadata": {},
   "outputs": [
    {
     "name": "stderr",
     "output_type": "stream",
     "text": [
      "c:\\Users\\ezrat\\anaconda3\\envs\\cs4246\\lib\\site-packages\\pygame\\pkgdata.py:25: DeprecationWarning: pkg_resources is deprecated as an API. See https://setuptools.pypa.io/en/latest/pkg_resources.html\n",
      "  from pkg_resources import resource_stream, resource_exists\n"
     ]
    }
   ],
   "source": [
    "from src.config_parser import get_args\n",
    "from src.eval import watch\n",
    "from src.train import train_agent"
   ]
  },
  {
   "cell_type": "code",
   "execution_count": 2,
   "metadata": {},
   "outputs": [
    {
     "name": "stdout",
     "output_type": "stream",
     "text": [
      "Opponent policy: minimax\n",
      "Minimax depth: 3\n",
      "Agent ID: 1\n"
     ]
    }
   ],
   "source": [
    "args = get_args()\n",
    "args.opponent_policy = \"minimax\"\n",
    "args.minimax_depth = 3\n",
    "args.watch = True\n",
    "args.agent_id = 1  # The learning agent plays as player 1, minimax as player 2\n",
    "\n",
    "print(f\"Opponent policy: {args.opponent_policy}\")\n",
    "print(f\"Minimax depth: {args.minimax_depth}\")\n",
    "print(f\"Agent ID: {args.agent_id}\")"
   ]
  },
  {
   "cell_type": "markdown",
   "metadata": {},
   "source": [
    "## Watch a game with MinimaxPolicy"
   ]
  },
  {
   "cell_type": "code",
   "execution_count": 3,
   "metadata": {},
   "outputs": [
    {
     "name": "stdout",
     "output_type": "stream",
     "text": [
      "Action mask found: [[ True  True  True  True  True  True  True]]\n",
      "Observation shape: (6, 7, 2)\n",
      "Player pieces count: 0\n",
      "Opponent pieces count: 1\n",
      "\n",
      "=== MINIMAX DECISION MAKING ===\n",
      "Player ID: 2, Opponent ID: 1\n",
      "Current board state:\n",
      ". . . . . . . \n",
      ". . . . . . . \n",
      ". . . . . . . \n",
      ". . . . . . . \n",
      ". . . . . . . \n",
      ". X . . . . . \n",
      "0 1 2 3 4 5 6\n",
      "Valid actions: [0, 1, 2, 3, 4, 5, 6]\n",
      "No immediate threats, proceeding with minimax\n",
      "Action 0 has value 2\n",
      "Action 1 has value 5\n",
      "Action 2 has value 2\n",
      "Action 3 has value 8\n",
      "Action 4 has value 3\n",
      "Action 5 has value 3\n",
      "Action 6 has value 3\n",
      "Choosing action 3 with value 8\n",
      "Action mask found: [[ True  True  True  True  True  True  True]]\n",
      "Observation shape: (6, 7, 2)\n",
      "Player pieces count: 1\n",
      "Opponent pieces count: 2\n",
      "\n",
      "=== MINIMAX DECISION MAKING ===\n",
      "Player ID: 2, Opponent ID: 1\n",
      "Current board state:\n",
      ". . . . . . . \n",
      ". . . . . . . \n",
      ". . . . . . . \n",
      ". . . . . . . \n",
      ". X . . . . . \n",
      ". X . O . . . \n",
      "0 1 2 3 4 5 6\n",
      "Valid actions: [0, 1, 2, 3, 4, 5, 6]\n",
      "No immediate threats, proceeding with minimax\n",
      "Action 0 has value 5\n",
      "Action 1 has value 10\n",
      "Action 2 has value 6\n",
      "Action 3 has value 10\n",
      "Action 4 has value 7\n",
      "Action 5 has value 7\n",
      "Action 6 has value 6\n",
      "Choosing action 1 with value 10\n",
      "Action mask found: [[ True  True  True  True  True  True  True]]\n",
      "Observation shape: (6, 7, 2)\n",
      "Player pieces count: 2\n",
      "Opponent pieces count: 3\n",
      "\n",
      "=== MINIMAX DECISION MAKING ===\n",
      "Player ID: 2, Opponent ID: 1\n",
      "Current board state:\n",
      ". . . . . . . \n",
      ". . . . . . . \n",
      ". X . . . . . \n",
      ". O . . . . . \n",
      ". X . . . . . \n",
      ". X . O . . . \n",
      "0 1 2 3 4 5 6\n",
      "Valid actions: [0, 1, 2, 3, 4, 5, 6]\n",
      "No immediate threats, proceeding with minimax\n",
      "Action 0 has value 8\n",
      "Action 1 has value 9\n",
      "Action 2 has value 9\n",
      "Action 3 has value 13\n",
      "Action 4 has value 10\n",
      "Action 5 has value 10\n",
      "Action 6 has value 9\n",
      "Choosing action 3 with value 13\n",
      "Action mask found: [[ True  True  True  True  True  True  True]]\n",
      "Observation shape: (6, 7, 2)\n",
      "Player pieces count: 3\n",
      "Opponent pieces count: 4\n",
      "\n",
      "=== MINIMAX DECISION MAKING ===\n",
      "Player ID: 2, Opponent ID: 1\n",
      "Current board state:\n",
      ". . . . . . . \n",
      ". X . . . . . \n",
      ". X . . . . . \n",
      ". O . . . . . \n",
      ". X . O . . . \n",
      ". X . O . . . \n",
      "0 1 2 3 4 5 6\n",
      "Valid actions: [0, 1, 2, 3, 4, 5, 6]\n",
      "No immediate threats, proceeding with minimax\n",
      "Action 0 has value 12\n",
      "Action 1 has value 13\n",
      "Action 2 has value 13\n",
      "Action 3 has value 18\n",
      "Action 4 has value 14\n",
      "Action 5 has value 14\n",
      "Action 6 has value 13\n",
      "Choosing action 3 with value 18\n",
      "Action mask found: [[ True False  True  True  True  True  True]]\n",
      "Observation shape: (6, 7, 2)\n",
      "Player pieces count: 4\n",
      "Opponent pieces count: 5\n",
      "\n",
      "=== MINIMAX DECISION MAKING ===\n",
      "Player ID: 2, Opponent ID: 1\n",
      "Current board state:\n",
      ". X . . . . . \n",
      ". X . . . . . \n",
      ". X . . . . . \n",
      ". O . O . . . \n",
      ". X . O . . . \n",
      ". X . O . . . \n",
      "0 1 2 3 4 5 6\n",
      "Valid actions: [0, 2, 3, 4, 5, 6]\n",
      "Found winning move at column 3\n",
      "Final reward: -1.0, length: 10.0\n"
     ]
    }
   ],
   "source": [
    "# Watch a game\n",
    "watch(args)"
   ]
  },
  {
   "cell_type": "code",
   "execution_count": null,
   "metadata": {},
   "outputs": [],
   "source": []
  }
 ],
 "metadata": {
  "kernelspec": {
   "display_name": "cs4246",
   "language": "python",
   "name": "python3"
  },
  "language_info": {
   "codemirror_mode": {
    "name": "ipython",
    "version": 3
   },
   "file_extension": ".py",
   "mimetype": "text/x-python",
   "name": "python",
   "nbconvert_exporter": "python",
   "pygments_lexer": "ipython3",
   "version": "3.10.16"
  }
 },
 "nbformat": 4,
 "nbformat_minor": 4
}
